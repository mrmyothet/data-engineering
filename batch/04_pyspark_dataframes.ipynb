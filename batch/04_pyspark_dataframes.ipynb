{
 "cells": [
  {
   "cell_type": "code",
   "execution_count": 24,
   "id": "fe6213d2",
   "metadata": {},
   "outputs": [],
   "source": [
    "import pandas as pd\n",
    "from pyspark.sql import SparkSession, types"
   ]
  },
  {
   "cell_type": "code",
   "execution_count": 25,
   "id": "e2751879",
   "metadata": {},
   "outputs": [],
   "source": [
    "spark = SparkSession.builder \\\n",
    "        .master(\"local[*]\") \\\n",
    "        .appName('test') \\\n",
    "        .getOrCreate()"
   ]
  },
  {
   "cell_type": "code",
   "execution_count": 26,
   "id": "3243868f",
   "metadata": {},
   "outputs": [],
   "source": [
    "schema = types.StructType([\n",
    "    types.StructField('hvfhs_license_num', types.StringType(), True), \n",
    "    types.StructField('dispatching_base_num', types.StringType(), True), \n",
    "    types.StructField('pickup_datetime', types.TimestampType(), True), \n",
    "    types.StructField('dropoff_datetime', types.TimestampType(), True), \n",
    "    types.StructField('PULocationID',types.IntegerType(), True), \n",
    "    types.StructField('DOLocationID', types.IntegerType(), True), \n",
    "    types.StructField('SR_Flag', types.StringType(), True)\n",
    "])"
   ]
  },
  {
   "cell_type": "code",
   "execution_count": 27,
   "id": "63cf380e",
   "metadata": {},
   "outputs": [],
   "source": [
    "df = spark.read \\\n",
    "     .option(\"header\", \"true\") \\\n",
    "     .schema(schema) \\\n",
    "     .csv('/home/myothet/repos/data-engineering/batch/fhvhv_tripdata_2021-01.csv')"
   ]
  },
  {
   "cell_type": "code",
   "execution_count": 28,
   "id": "564693ca",
   "metadata": {},
   "outputs": [],
   "source": [
    "df = df.repartition(4)"
   ]
  },
  {
   "cell_type": "code",
   "execution_count": 29,
   "id": "4ba8a656",
   "metadata": {},
   "outputs": [
    {
     "name": "stderr",
     "output_type": "stream",
     "text": [
      "                                                                                \r"
     ]
    }
   ],
   "source": [
    "df.write.parquet('fhvhv/2021/01', mode=\"overwrite\")"
   ]
  },
  {
   "cell_type": "code",
   "execution_count": 30,
   "id": "3c1c1556",
   "metadata": {},
   "outputs": [],
   "source": [
    "df = spark.read.parquet('fhvhv/2021/01')"
   ]
  },
  {
   "cell_type": "code",
   "execution_count": 43,
   "id": "c4d6fb4e",
   "metadata": {},
   "outputs": [
    {
     "name": "stdout",
     "output_type": "stream",
     "text": [
      "root\n",
      " |-- hvfhs_license_num: string (nullable = true)\n",
      " |-- dispatching_base_num: string (nullable = true)\n",
      " |-- pickup_datetime: timestamp (nullable = true)\n",
      " |-- dropoff_datetime: timestamp (nullable = true)\n",
      " |-- PULocationID: integer (nullable = true)\n",
      " |-- DOLocationID: integer (nullable = true)\n",
      " |-- SR_Flag: string (nullable = true)\n",
      "\n"
     ]
    }
   ],
   "source": [
    "df.printSchema()"
   ]
  },
  {
   "cell_type": "code",
   "execution_count": 32,
   "id": "5b0058fd",
   "metadata": {},
   "outputs": [],
   "source": [
    "columns = [\"pickup_datetime\", \"dropoff_datetime\", \"PULocationID\", \"DOLocationID\"]"
   ]
  },
  {
   "cell_type": "code",
   "execution_count": 33,
   "id": "8f22320c-f0a6-49f9-8dc8-8f2a0e9ed634",
   "metadata": {},
   "outputs": [
    {
     "name": "stdout",
     "output_type": "stream",
     "text": [
      "+-------------------+-------------------+------------+------------+\n",
      "|    pickup_datetime|   dropoff_datetime|PULocationID|DOLocationID|\n",
      "+-------------------+-------------------+------------+------------+\n",
      "|2021-01-01 03:25:05|2021-01-01 03:33:04|          69|         247|\n",
      "|2021-01-02 10:18:43|2021-01-02 10:36:45|          61|          76|\n",
      "|2021-01-01 17:37:36|2021-01-01 17:44:07|         147|         147|\n",
      "|2021-01-01 01:15:03|2021-01-01 01:28:24|          95|          28|\n",
      "|2021-01-01 10:04:05|2021-01-01 10:08:19|         216|         216|\n",
      "|2021-01-01 14:12:07|2021-01-01 14:19:55|          69|         169|\n",
      "|2021-01-01 21:12:36|2021-01-01 21:21:01|          47|          78|\n",
      "|2021-01-01 00:46:51|2021-01-01 01:02:46|          51|         159|\n",
      "|2021-01-02 08:51:20|2021-01-02 09:23:34|          35|         205|\n",
      "|2021-01-01 02:27:23|2021-01-01 02:40:18|          39|         219|\n",
      "|2021-01-02 09:10:13|2021-01-02 09:28:27|           7|          17|\n",
      "|2021-01-01 04:04:32|2021-01-01 04:15:29|           3|         259|\n",
      "|2021-01-02 06:49:14|2021-01-02 07:06:52|          65|          36|\n",
      "|2021-01-01 19:59:12|2021-01-01 20:04:11|         197|         197|\n",
      "|2021-01-01 16:26:38|2021-01-01 16:47:28|          97|         246|\n",
      "|2021-01-01 04:45:49|2021-01-01 04:51:08|         216|         216|\n",
      "|2021-01-01 01:11:08|2021-01-01 01:25:25|         143|         249|\n",
      "|2021-01-01 13:58:25|2021-01-01 14:21:55|         217|          49|\n",
      "|2021-01-01 09:25:22|2021-01-01 09:38:01|         132|          28|\n",
      "|2021-01-01 02:17:32|2021-01-01 02:28:28|         212|         254|\n",
      "+-------------------+-------------------+------------+------------+\n",
      "only showing top 20 rows\n",
      "\n"
     ]
    }
   ],
   "source": [
    "df.select(columns) \\\n",
    "  .filter(df.hvfhs_license_num =='HV0003') \\\n",
    "  .show()"
   ]
  },
  {
   "cell_type": "code",
   "execution_count": 34,
   "id": "1609844b-2108-4dbf-827a-f4672edd019f",
   "metadata": {},
   "outputs": [
    {
     "data": {
      "text/plain": [
       "[Row(pickup_datetime=datetime.datetime(2021, 1, 1, 3, 25, 5), dropoff_datetime=datetime.datetime(2021, 1, 1, 3, 33, 4), PULocationID=69, DOLocationID=247),\n",
       " Row(pickup_datetime=datetime.datetime(2021, 1, 2, 10, 18, 43), dropoff_datetime=datetime.datetime(2021, 1, 2, 10, 36, 45), PULocationID=61, DOLocationID=76),\n",
       " Row(pickup_datetime=datetime.datetime(2021, 1, 1, 17, 37, 36), dropoff_datetime=datetime.datetime(2021, 1, 1, 17, 44, 7), PULocationID=147, DOLocationID=147),\n",
       " Row(pickup_datetime=datetime.datetime(2021, 1, 1, 1, 15, 3), dropoff_datetime=datetime.datetime(2021, 1, 1, 1, 28, 24), PULocationID=95, DOLocationID=28),\n",
       " Row(pickup_datetime=datetime.datetime(2021, 1, 1, 10, 4, 5), dropoff_datetime=datetime.datetime(2021, 1, 1, 10, 8, 19), PULocationID=216, DOLocationID=216)]"
      ]
     },
     "execution_count": 34,
     "metadata": {},
     "output_type": "execute_result"
    }
   ],
   "source": [
    "df.select(columns) \\\n",
    "  .filter(df.hvfhs_license_num =='HV0003') \\\n",
    "  .take(5)"
   ]
  },
  {
   "cell_type": "code",
   "execution_count": 35,
   "id": "21fa9326-b3e0-4b0f-9d8c-906abcdd0d5d",
   "metadata": {},
   "outputs": [
    {
     "data": {
      "text/plain": [
       "[Row(pickup_datetime=datetime.datetime(2021, 1, 1, 3, 25, 5), dropoff_datetime=datetime.datetime(2021, 1, 1, 3, 33, 4), PULocationID=69, DOLocationID=247),\n",
       " Row(pickup_datetime=datetime.datetime(2021, 1, 2, 10, 18, 43), dropoff_datetime=datetime.datetime(2021, 1, 2, 10, 36, 45), PULocationID=61, DOLocationID=76),\n",
       " Row(pickup_datetime=datetime.datetime(2021, 1, 1, 17, 37, 36), dropoff_datetime=datetime.datetime(2021, 1, 1, 17, 44, 7), PULocationID=147, DOLocationID=147),\n",
       " Row(pickup_datetime=datetime.datetime(2021, 1, 1, 1, 15, 3), dropoff_datetime=datetime.datetime(2021, 1, 1, 1, 28, 24), PULocationID=95, DOLocationID=28),\n",
       " Row(pickup_datetime=datetime.datetime(2021, 1, 1, 10, 4, 5), dropoff_datetime=datetime.datetime(2021, 1, 1, 10, 8, 19), PULocationID=216, DOLocationID=216)]"
      ]
     },
     "execution_count": 35,
     "metadata": {},
     "output_type": "execute_result"
    }
   ],
   "source": [
    "df.select(columns) \\\n",
    "  .filter(df.hvfhs_license_num =='HV0003') \\\n",
    "  .head(5)"
   ]
  },
  {
   "cell_type": "code",
   "execution_count": 36,
   "id": "37bcde00-2711-484c-b580-5a9227f2d5a9",
   "metadata": {},
   "outputs": [],
   "source": [
    "from pyspark.sql import functions as F"
   ]
  },
  {
   "cell_type": "code",
   "execution_count": 37,
   "id": "d077a3ad-0cd1-498d-bc4a-cba638ddfb04",
   "metadata": {},
   "outputs": [
    {
     "name": "stdout",
     "output_type": "stream",
     "text": [
      "+-----------+------------+------------+------------+\n",
      "|pickup_date|dropoff_date|PULocationID|DOLocationID|\n",
      "+-----------+------------+------------+------------+\n",
      "| 2021-01-01|  2021-01-01|         225|         177|\n",
      "| 2021-01-01|  2021-01-01|          69|         247|\n",
      "| 2021-01-01|  2021-01-01|         225|         218|\n",
      "| 2021-01-02|  2021-01-02|          61|          76|\n",
      "| 2021-01-01|  2021-01-01|         113|         138|\n",
      "| 2021-01-01|  2021-01-01|          36|         255|\n",
      "| 2021-01-01|  2021-01-01|         238|         137|\n",
      "| 2021-01-01|  2021-01-01|          28|         130|\n",
      "| 2021-01-01|  2021-01-01|         147|         147|\n",
      "| 2021-01-02|  2021-01-02|          21|         258|\n",
      "| 2021-01-01|  2021-01-01|         249|         238|\n",
      "| 2021-01-02|  2021-01-02|          81|         265|\n",
      "| 2021-01-01|  2021-01-01|         241|         167|\n",
      "| 2021-01-01|  2021-01-01|          95|          28|\n",
      "| 2021-01-01|  2021-01-01|         216|         216|\n",
      "| 2021-01-01|  2021-01-01|          10|         140|\n",
      "| 2021-01-01|  2021-01-01|          69|         169|\n",
      "| 2021-01-01|  2021-01-01|          47|          78|\n",
      "| 2021-01-01|  2021-01-01|          51|         159|\n",
      "| 2021-01-02|  2021-01-02|          35|         205|\n",
      "+-----------+------------+------------+------------+\n",
      "only showing top 20 rows\n",
      "\n"
     ]
    }
   ],
   "source": [
    "df \\\n",
    "  .withColumn('pickup_date', F.to_date(df.pickup_datetime)) \\\n",
    "  .withColumn('dropoff_date', F.to_date(df.dropoff_datetime)) \\\n",
    "  .select('pickup_date', 'dropoff_date', 'PULocationID', 'DOLocationID') \\\n",
    "  .show()"
   ]
  },
  {
   "cell_type": "code",
   "execution_count": 47,
   "id": "0b66fd55-2f2b-479d-8ba9-a0fc1eb9214b",
   "metadata": {},
   "outputs": [],
   "source": [
    "def crazy_stuff(base_num):\n",
    "    num = int(base_num[1:])\n",
    "    if num % 7 ==0:\n",
    "        return f\"s/{num:03x}\"\n",
    "    elif num %3 == 0:\n",
    "        return f\"a/{num:03x}\"\n",
    "    else:\n",
    "        return f\"e/{num:03x}\""
   ]
  },
  {
   "cell_type": "code",
   "execution_count": 48,
   "id": "26d0f42e-17c3-4741-bc06-4c2de2f64f04",
   "metadata": {},
   "outputs": [],
   "source": [
    "crazy_stuff_udf = F.udf(crazy_stuff, returnType=types.StringType())"
   ]
  },
  {
   "cell_type": "code",
   "execution_count": 49,
   "id": "c1e5f821-0473-468c-814a-874e80cfe30f",
   "metadata": {},
   "outputs": [
    {
     "name": "stdout",
     "output_type": "stream",
     "text": [
      "+-------+-----------+------------+------------+------------+\n",
      "|base_id|pickup_date|dropoff_date|PULocationID|DOLocationID|\n",
      "+-------+-----------+------------+------------+------------+\n",
      "|  e/9ce| 2021-01-01|  2021-01-01|         225|         177|\n",
      "|  e/b30| 2021-01-01|  2021-01-01|          69|         247|\n",
      "|  e/9ce| 2021-01-01|  2021-01-01|         225|         218|\n",
      "|  e/b42| 2021-01-02|  2021-01-02|          61|          76|\n",
      "|  e/9ce| 2021-01-01|  2021-01-01|         113|         138|\n",
      "|  e/9ce| 2021-01-01|  2021-01-01|          36|         255|\n",
      "|  e/9ce| 2021-01-01|  2021-01-01|         238|         137|\n",
      "|  e/9ce| 2021-01-01|  2021-01-01|          28|         130|\n",
      "|  e/b47| 2021-01-01|  2021-01-01|         147|         147|\n",
      "|  e/9ce| 2021-01-02|  2021-01-02|          21|         258|\n",
      "|  e/9ce| 2021-01-01|  2021-01-01|         249|         238|\n",
      "|  e/9ce| 2021-01-02|  2021-01-02|          81|         265|\n",
      "|  e/9ce| 2021-01-01|  2021-01-01|         241|         167|\n",
      "|  e/b48| 2021-01-01|  2021-01-01|          95|          28|\n",
      "|  e/acc| 2021-01-01|  2021-01-01|         216|         216|\n",
      "|  e/9ce| 2021-01-01|  2021-01-01|          10|         140|\n",
      "|  e/b35| 2021-01-01|  2021-01-01|          69|         169|\n",
      "|  e/b38| 2021-01-01|  2021-01-01|          47|          78|\n",
      "|  s/acd| 2021-01-01|  2021-01-01|          51|         159|\n",
      "|  s/b13| 2021-01-02|  2021-01-02|          35|         205|\n",
      "+-------+-----------+------------+------------+------------+\n",
      "only showing top 20 rows\n",
      "\n"
     ]
    }
   ],
   "source": [
    "df \\\n",
    "  .withColumn('pickup_date', F.to_date(df.pickup_datetime)) \\\n",
    "  .withColumn('dropoff_date', F.to_date(df.dropoff_datetime)) \\\n",
    "  .withColumn('base_id', crazy_stuff_udf(df.dispatching_base_num)) \\\n",
    "  .select('base_id', 'pickup_date', 'dropoff_date', 'PULocationID', 'DOLocationID') \\\n",
    "  .show()"
   ]
  },
  {
   "cell_type": "code",
   "execution_count": null,
   "id": "d98331a9-1f2e-4162-b8a7-552be05e932e",
   "metadata": {},
   "outputs": [],
   "source": []
  }
 ],
 "metadata": {
  "kernelspec": {
   "display_name": "Python 3 (ipykernel)",
   "language": "python",
   "name": "python3"
  },
  "language_info": {
   "codemirror_mode": {
    "name": "ipython",
    "version": 3
   },
   "file_extension": ".py",
   "mimetype": "text/x-python",
   "name": "python",
   "nbconvert_exporter": "python",
   "pygments_lexer": "ipython3",
   "version": "3.12.7"
  }
 },
 "nbformat": 4,
 "nbformat_minor": 5
}
