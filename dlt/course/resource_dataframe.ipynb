{
 "cells": [
  {
   "cell_type": "code",
   "execution_count": null,
   "metadata": {},
   "outputs": [],
   "source": [
    "import dlt\n",
    "\n",
    "from dotenv import load_dotenv\n",
    "\n",
    "load_dotenv()\n",
    "\n",
    "data = [\n",
    "    {\"id\": \"1\", \"name\": \"bulbasaur\", \"size\": {\"weight\": 6.9, \"height\": 0.7}},\n",
    "    {\"id\": \"4\", \"name\": \"charmander\", \"size\": {\"weight\": 8.5, \"height\": 0.6}},\n",
    "    {\"id\": \"25\", \"name\": \"pikachu\", \"size\": {\"weight\": 6, \"height\": 0.4}},\n",
    "]\n",
    "\n",
    "pipeline = dlt.pipeline(\n",
    "    pipeline_name=\"dlt_dataframe\", \n",
    "    destination=\"duckdb\", \n",
    "    dataset_name=\"my_data\",\n",
    ")\n",
    "\n",
    "load_info = pipeline.run(data, table_name=\"pokemon\")\n",
    "print(load_info)"
   ]
  },
  {
   "cell_type": "code",
   "execution_count": null,
   "metadata": {},
   "outputs": [],
   "source": [
    "@dlt.resource(table_name=\"pokemon_new\")\n",
    "def my_dict_list():\n",
    "    yield data\n",
    "\n",
    "load_info = pipeline.run(my_dict_list)\n",
    "print(load_info)"
   ]
  },
  {
   "cell_type": "code",
   "execution_count": null,
   "metadata": {},
   "outputs": [],
   "source": [
    "# check what was loaded to the pokemon_new table\n",
    "pipeline.dataset(dataset_type=\"default\").pokemon_new.df()"
   ]
  },
  {
   "cell_type": "code",
   "execution_count": null,
   "metadata": {},
   "outputs": [],
   "source": [
    "# Instead of a dict list, data could also be \n",
    "# dataframe\n",
    "# database query response\n",
    "# API request response\n",
    "# Anything we can transform into JSON/dict format\n",
    "\n",
    "# Dataframes\n",
    "\n",
    "import pandas as pd\n",
    "\n",
    "@dlt.resource(table_name=\"df_data\")\n",
    "def my_df():\n",
    "    sample_df = pd.read_csv(\"https://people.sc.fsu.edu/~jburkardt/data/csv/hw_200.csv\")\n",
    "    yield sample_df\n",
    "\n",
    "load_info = pipeline.run(my_df)\n",
    "print(load_info)\n",
    "\n",
    "pipeline.dataset(dataset_type=\"default\").df_data.df()"
   ]
  }
 ],
 "metadata": {
  "kernelspec": {
   "display_name": "de_bootcamp",
   "language": "python",
   "name": "python3"
  },
  "language_info": {
   "codemirror_mode": {
    "name": "ipython",
    "version": 3
   },
   "file_extension": ".py",
   "mimetype": "text/x-python",
   "name": "python",
   "nbconvert_exporter": "python",
   "pygments_lexer": "ipython3",
   "version": "3.12.9"
  }
 },
 "nbformat": 4,
 "nbformat_minor": 2
}
