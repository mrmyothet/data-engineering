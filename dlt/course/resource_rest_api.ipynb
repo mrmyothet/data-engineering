{
 "cells": [
  {
   "cell_type": "code",
   "execution_count": null,
   "metadata": {},
   "outputs": [],
   "source": [
    "import dlt\n",
    "from dlt.sources.helpers import requests\n",
    "\n",
    "from dotenv import load_dotenv\n",
    "\n",
    "load_dotenv()"
   ]
  },
  {
   "cell_type": "code",
   "execution_count": null,
   "metadata": {},
   "outputs": [],
   "source": [
    "@dlt.resource(table_name='pokemon_api')\n",
    "def get_pokemon():\n",
    "    url = \"https://pokeapi.co/api/v2/pokemon\"\n",
    "    response = requests.get(url)\n",
    "    yield response.json()[\"results\"]"
   ]
  },
  {
   "cell_type": "code",
   "execution_count": null,
   "metadata": {},
   "outputs": [],
   "source": [
    "pipeline = dlt.pipeline(\n",
    "    pipeline_name=\"quick_start\", \n",
    "    # destination=\"duckdb\", \n",
    "    # dataset_name=\"my_data\",\n",
    ")\n",
    "\n",
    "load_info = pipeline.run(get_pokemon)\n",
    "print(load_info)"
   ]
  },
  {
   "cell_type": "code",
   "execution_count": null,
   "metadata": {},
   "outputs": [],
   "source": [
    "pipeline.dataset(dataset_type=\"default\").pokemon_api.df()"
   ]
  }
 ],
 "metadata": {
  "kernelspec": {
   "display_name": "de_bootcamp",
   "language": "python",
   "name": "python3"
  },
  "language_info": {
   "codemirror_mode": {
    "name": "ipython",
    "version": 3
   },
   "file_extension": ".py",
   "mimetype": "text/x-python",
   "name": "python",
   "nbconvert_exporter": "python",
   "pygments_lexer": "ipython3",
   "version": "3.12.0"
  }
 },
 "nbformat": 4,
 "nbformat_minor": 2
}
