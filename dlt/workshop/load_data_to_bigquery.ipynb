{
 "cells": [
  {
   "cell_type": "code",
   "execution_count": 7,
   "metadata": {},
   "outputs": [],
   "source": [
    "import dlt\n",
    "from dlt.sources.helpers.rest_client import RESTClient\n",
    "from dlt.sources.helpers.rest_client.paginators import PageNumberPaginator\n",
    "import json\n",
    "import os"
   ]
  },
  {
   "cell_type": "code",
   "execution_count": 12,
   "metadata": {},
   "outputs": [
    {
     "name": "stderr",
     "output_type": "stream",
     "text": [
      "/home/myothet/anaconda3/envs/de_bootcamp/lib/python3.12/site-packages/google/cloud/bigquery/client.py:595: UserWarning: Cannot create BigQuery Storage client, the dependency google-cloud-bigquery-storage is not installed.\n",
      "  warnings.warn(\n"
     ]
    },
    {
     "name": "stdout",
     "output_type": "stream",
     "text": [
      "Pipeline taxi_data load step completed in 20.35 seconds\n",
      "1 load package(s) were loaded to destination bigquery and into dataset ny_taxi_20250216124729\n",
      "The bigquery destination used mt-gcs-bigquery-account@ny-rides-mt.iam.gserviceaccount.com@ny-rides-mt location to store data\n",
      "Load package 1739710049.5514312 is LOADED and contains no failed jobs\n"
     ]
    }
   ],
   "source": [
    "@dlt.resource(name=\"ny_taxi\", write_disposition=\"replace\")\n",
    "def ny_taxi():\n",
    "    client = RESTClient(\n",
    "        base_url=\"https://us-central1-dlthub-analytics.cloudfunctions.net\",\n",
    "        paginator=PageNumberPaginator(\n",
    "            base_page=1,\n",
    "            total_path=None\n",
    "        )\n",
    "    )\n",
    "\n",
    "    for page in client.paginate(\"data_engineering_zoomcamp_api\"):\n",
    "        yield page\n",
    "\n",
    "# Set Credentials \n",
    "with open(\"/home/myothet/repos/data-engineering/dlt/workshop/.google/credentials/google_credentials.json\") as f:\n",
    "    credentials = json.load(f)\n",
    "    os.environ[\"DESTINATION__BIGQUERY__CREDENTIALS\"] = json.dumps(credentials)\n",
    "\n",
    "pipeline = dlt.pipeline(\n",
    "    pipeline_name=\"taxi_data\", \n",
    "    destination=\"bigquery\", \n",
    "    dataset_name=\"ny_taxi\", \n",
    "    dev_mode=True\n",
    ")\n",
    "\n",
    "load_info = pipeline.run(ny_taxi)\n",
    "print(load_info)"
   ]
  },
  {
   "cell_type": "code",
   "execution_count": null,
   "metadata": {},
   "outputs": [],
   "source": []
  }
 ],
 "metadata": {
  "kernelspec": {
   "display_name": "de_bootcamp",
   "language": "python",
   "name": "python3"
  },
  "language_info": {
   "codemirror_mode": {
    "name": "ipython",
    "version": 3
   },
   "file_extension": ".py",
   "mimetype": "text/x-python",
   "name": "python",
   "nbconvert_exporter": "python",
   "pygments_lexer": "ipython3",
   "version": "3.12.9"
  }
 },
 "nbformat": 4,
 "nbformat_minor": 2
}
