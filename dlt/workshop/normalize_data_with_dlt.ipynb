{
 "cells": [
  {
   "cell_type": "markdown",
   "metadata": {},
   "source": [
    "### Normalize Data"
   ]
  },
  {
   "cell_type": "code",
   "execution_count": 2,
   "metadata": {},
   "outputs": [],
   "source": [
    "import dlt\n",
    "\n",
    "data = [\n",
    "    {\n",
    "        \"vendor_name\": \"VTS\",\n",
    "        \"record_hash\": \"b00361a396177a9cb410ff61f20015ad\",\n",
    "        \"time\": {\n",
    "            \"pickup\": \"2009-06-14 23:23:00\",\n",
    "            \"dropoff\": \"2009-06-14 23:48:00\"\n",
    "        },\n",
    "        \"coordinates\": {\n",
    "            \"start\": {\"lon\": -73.787442, \"lat\": 40.641525},\n",
    "            \"end\": {\"lon\": -73.980072, \"lat\": 40.742963}\n",
    "        },\n",
    "        \"passengers\": [\n",
    "            {\"name\": \"John\", \"rating\": 4.9},\n",
    "            {\"name\": \"Jack\", \"rating\": 3.9}\n",
    "        ]\n",
    "    }\n",
    "]"
   ]
  },
  {
   "cell_type": "code",
   "execution_count": 3,
   "metadata": {},
   "outputs": [
    {
     "name": "stdout",
     "output_type": "stream",
     "text": [
      "Pipeline ny_taxi_data load step completed in 0.31 seconds\n",
      "1 load package(s) were loaded to destination duckdb and into dataset taxi_rides\n",
      "The duckdb destination used duckdb:////home/myothet/repos/data-engineering/dlt/workshop/ny_taxi_data.duckdb location to store data\n",
      "Load package 1739691561.910805 is LOADED and contains no failed jobs\n"
     ]
    }
   ],
   "source": [
    "pipeline = dlt.pipeline(\n",
    "    pipeline_name=\"ny_taxi_data\", \n",
    "    destination=\"duckdb\", \n",
    "    dataset_name=\"taxi_rides\"\n",
    ")\n",
    "\n",
    "load_info = pipeline.run(data, table_name=\"rides\", write_disposition=\"replace\")\n",
    "print(load_info)"
   ]
  },
  {
   "cell_type": "code",
   "execution_count": 4,
   "metadata": {},
   "outputs": [
    {
     "name": "stdout",
     "output_type": "stream",
     "text": [
      "Run started at 2025-02-16 07:39:21.664427+00:00 and COMPLETED in 2.08 seconds with 4 steps.\n",
      "Step extract COMPLETED in 0.13 seconds.\n",
      "\n",
      "Load package 1739691561.910805 is EXTRACTED and NOT YET LOADED to the destination and contains no failed jobs\n",
      "\n",
      "Step normalize COMPLETED in 0.12 seconds.\n",
      "Normalized data for the following tables:\n",
      "- rides: 1 row(s)\n",
      "- rides__passengers: 2 row(s)\n",
      "\n",
      "Load package 1739691561.910805 is NORMALIZED and NOT YET LOADED to the destination and contains no failed jobs\n",
      "\n",
      "Step load COMPLETED in 1.60 seconds.\n",
      "Pipeline ny_taxi_data load step completed in 0.31 seconds\n",
      "1 load package(s) were loaded to destination duckdb and into dataset taxi_rides\n",
      "The duckdb destination used duckdb:////home/myothet/repos/data-engineering/dlt/workshop/ny_taxi_data.duckdb location to store data\n",
      "Load package 1739691561.910805 is LOADED and contains no failed jobs\n",
      "\n",
      "Step run COMPLETED in 2.07 seconds.\n",
      "Pipeline ny_taxi_data load step completed in 0.31 seconds\n",
      "1 load package(s) were loaded to destination duckdb and into dataset taxi_rides\n",
      "The duckdb destination used duckdb:////home/myothet/repos/data-engineering/dlt/workshop/ny_taxi_data.duckdb location to store data\n",
      "Load package 1739691561.910805 is LOADED and contains no failed jobs\n"
     ]
    }
   ],
   "source": [
    "print(pipeline.last_trace)"
   ]
  },
  {
   "cell_type": "code",
   "execution_count": 5,
   "metadata": {},
   "outputs": [
    {
     "data": {
      "text/plain": [
       "Index(['vendor_name', 'record_hash', 'time__pickup', 'time__dropoff',\n",
       "       'coordinates__start__lon', 'coordinates__start__lat',\n",
       "       'coordinates__end__lon', 'coordinates__end__lat', '_dlt_load_id',\n",
       "       '_dlt_id'],\n",
       "      dtype='object')"
      ]
     },
     "execution_count": 5,
     "metadata": {},
     "output_type": "execute_result"
    }
   ],
   "source": [
    "# Automatically detects schema \n",
    "# Flattens nested JSON\n",
    "# Handles data type conversion \n",
    "# Splits lists into child tables\n",
    "# Schema evolution support \n",
    "\n",
    "pipeline.dataset(dataset_type=\"default\").rides.df().columns"
   ]
  },
  {
   "cell_type": "code",
   "execution_count": 6,
   "metadata": {},
   "outputs": [
    {
     "data": {
      "text/html": [
       "<div>\n",
       "<style scoped>\n",
       "    .dataframe tbody tr th:only-of-type {\n",
       "        vertical-align: middle;\n",
       "    }\n",
       "\n",
       "    .dataframe tbody tr th {\n",
       "        vertical-align: top;\n",
       "    }\n",
       "\n",
       "    .dataframe thead th {\n",
       "        text-align: right;\n",
       "    }\n",
       "</style>\n",
       "<table border=\"1\" class=\"dataframe\">\n",
       "  <thead>\n",
       "    <tr style=\"text-align: right;\">\n",
       "      <th></th>\n",
       "      <th>vendor_name</th>\n",
       "      <th>record_hash</th>\n",
       "      <th>time__pickup</th>\n",
       "      <th>time__dropoff</th>\n",
       "      <th>coordinates__start__lon</th>\n",
       "      <th>coordinates__start__lat</th>\n",
       "      <th>coordinates__end__lon</th>\n",
       "      <th>coordinates__end__lat</th>\n",
       "      <th>_dlt_load_id</th>\n",
       "      <th>_dlt_id</th>\n",
       "    </tr>\n",
       "  </thead>\n",
       "  <tbody>\n",
       "    <tr>\n",
       "      <th>0</th>\n",
       "      <td>VTS</td>\n",
       "      <td>b00361a396177a9cb410ff61f20015ad</td>\n",
       "      <td>2009-06-14 23:23:00+00:00</td>\n",
       "      <td>2009-06-14 23:48:00+00:00</td>\n",
       "      <td>-73.787442</td>\n",
       "      <td>40.641525</td>\n",
       "      <td>-73.980072</td>\n",
       "      <td>40.742963</td>\n",
       "      <td>1739691561.910805</td>\n",
       "      <td>3wJYq/zKmS19Jw</td>\n",
       "    </tr>\n",
       "  </tbody>\n",
       "</table>\n",
       "</div>"
      ],
      "text/plain": [
       "  vendor_name                       record_hash              time__pickup  \\\n",
       "0         VTS  b00361a396177a9cb410ff61f20015ad 2009-06-14 23:23:00+00:00   \n",
       "\n",
       "              time__dropoff  coordinates__start__lon  coordinates__start__lat  \\\n",
       "0 2009-06-14 23:48:00+00:00               -73.787442                40.641525   \n",
       "\n",
       "   coordinates__end__lon  coordinates__end__lat       _dlt_load_id  \\\n",
       "0             -73.980072              40.742963  1739691561.910805   \n",
       "\n",
       "          _dlt_id  \n",
       "0  3wJYq/zKmS19Jw  "
      ]
     },
     "execution_count": 6,
     "metadata": {},
     "output_type": "execute_result"
    }
   ],
   "source": [
    "# Timestamps were converted to the correct format\n",
    "pipeline.dataset(dataset_type=\"default\").rides.df()"
   ]
  },
  {
   "cell_type": "code",
   "execution_count": 7,
   "metadata": {},
   "outputs": [
    {
     "data": {
      "text/html": [
       "<div>\n",
       "<style scoped>\n",
       "    .dataframe tbody tr th:only-of-type {\n",
       "        vertical-align: middle;\n",
       "    }\n",
       "\n",
       "    .dataframe tbody tr th {\n",
       "        vertical-align: top;\n",
       "    }\n",
       "\n",
       "    .dataframe thead th {\n",
       "        text-align: right;\n",
       "    }\n",
       "</style>\n",
       "<table border=\"1\" class=\"dataframe\">\n",
       "  <thead>\n",
       "    <tr style=\"text-align: right;\">\n",
       "      <th></th>\n",
       "      <th>name</th>\n",
       "      <th>rating</th>\n",
       "      <th>_dlt_parent_id</th>\n",
       "      <th>_dlt_list_idx</th>\n",
       "      <th>_dlt_id</th>\n",
       "    </tr>\n",
       "  </thead>\n",
       "  <tbody>\n",
       "    <tr>\n",
       "      <th>0</th>\n",
       "      <td>John</td>\n",
       "      <td>4.9</td>\n",
       "      <td>3wJYq/zKmS19Jw</td>\n",
       "      <td>0</td>\n",
       "      <td>fmNgOO2rwAtZzQ</td>\n",
       "    </tr>\n",
       "    <tr>\n",
       "      <th>1</th>\n",
       "      <td>Jack</td>\n",
       "      <td>3.9</td>\n",
       "      <td>3wJYq/zKmS19Jw</td>\n",
       "      <td>1</td>\n",
       "      <td>MMh2o0NW848qbA</td>\n",
       "    </tr>\n",
       "  </tbody>\n",
       "</table>\n",
       "</div>"
      ],
      "text/plain": [
       "   name  rating  _dlt_parent_id  _dlt_list_idx         _dlt_id\n",
       "0  John     4.9  3wJYq/zKmS19Jw              0  fmNgOO2rwAtZzQ\n",
       "1  Jack     3.9  3wJYq/zKmS19Jw              1  MMh2o0NW848qbA"
      ]
     },
     "execution_count": 7,
     "metadata": {},
     "output_type": "execute_result"
    }
   ],
   "source": [
    "# Splits lists into child tables\n",
    "pipeline.dataset(dataset_type=\"default\").rides__passengers.df()"
   ]
  },
  {
   "cell_type": "code",
   "execution_count": null,
   "metadata": {},
   "outputs": [],
   "source": []
  }
 ],
 "metadata": {
  "kernelspec": {
   "display_name": "de_bootcamp",
   "language": "python",
   "name": "python3"
  },
  "language_info": {
   "codemirror_mode": {
    "name": "ipython",
    "version": 3
   },
   "file_extension": ".py",
   "mimetype": "text/x-python",
   "name": "python",
   "nbconvert_exporter": "python",
   "pygments_lexer": "ipython3",
   "version": "3.12.9"
  }
 },
 "nbformat": 4,
 "nbformat_minor": 2
}
