{
 "cells": [
  {
   "cell_type": "code",
   "execution_count": null,
   "metadata": {},
   "outputs": [],
   "source": [
    "import dlt\n",
    "from dlt.sources.helpers.rest_client import RESTClient\n",
    "from dlt.sources.helpers.rest_client.paginators import PageNumberPaginator"
   ]
  },
  {
   "cell_type": "code",
   "execution_count": null,
   "metadata": {},
   "outputs": [],
   "source": [
    "@dlt.resource(name=\"ny_taxi\", write_disposition=\"append\")\n",
    "def ny_taxi(cursor_date = dlt.sources.incremental(\"Trip_Dropoff_DateTime\", initial_value=\"2009-06-15\")):\n",
    "\n",
    "    client = RESTClient(\n",
    "        base_url=\"https://us-central1-dlthub-analytics.cloudfunctions.net\", \n",
    "        paginator=PageNumberPaginator(\n",
    "            base_page=1, \n",
    "            total_path=None\n",
    "        )\n",
    "    )\n",
    "\n",
    "    for page in client.paginate(\"data_engineering_zoomcamp_api\"):\n",
    "        yield page\n",
    "\n",
    "\n",
    "pipeline = dlt.pipeline(\n",
    "    pipeline_name=\"ny_taxi_incremental\", \n",
    "    destination=\"duckdb\", \n",
    "    dataset_name=\"ny_taxi_data\"\n",
    ")\n",
    "\n",
    "load_info = pipeline.run(ny_taxi)\n",
    "print(load_info)\n",
    "print(pipeline.last_trace)"
   ]
  },
  {
   "cell_type": "code",
   "execution_count": null,
   "metadata": {},
   "outputs": [],
   "source": [
    "with pipeline.sql_client() as client: \n",
    "    result = client.execute_sql(\n",
    "        \"\"\"\n",
    "        SELECT \n",
    "        MIN(trip_dropoff_date_time)\n",
    "        FROM ny_taxi;\n",
    "        \"\"\"\n",
    "    )\n",
    "\n",
    "    print(result)"
   ]
  },
  {
   "cell_type": "code",
   "execution_count": null,
   "metadata": {},
   "outputs": [],
   "source": [
    "# Run the same pipeline again\n",
    "\n",
    "pipeline = dlt.pipeline(\n",
    "    pipeline_name=\"ny_taxi_incremental\", \n",
    "    destination=\"duckdb\", \n",
    "    dataset_name=\"ny_taxi_data\"\n",
    ")\n",
    "\n",
    "load_info = pipeline.run(ny_taxi)\n",
    "print(load_info)\n",
    "print(pipeline.last_trace)"
   ]
  }
 ],
 "metadata": {
  "kernelspec": {
   "display_name": "de_bootcamp",
   "language": "python",
   "name": "python3"
  },
  "language_info": {
   "codemirror_mode": {
    "name": "ipython",
    "version": 3
   },
   "file_extension": ".py",
   "mimetype": "text/x-python",
   "name": "python",
   "nbconvert_exporter": "python",
   "pygments_lexer": "ipython3",
   "version": "3.12.9"
  }
 },
 "nbformat": 4,
 "nbformat_minor": 2
}
