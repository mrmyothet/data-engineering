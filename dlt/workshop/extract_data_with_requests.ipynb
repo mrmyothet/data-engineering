{
 "cells": [
  {
   "cell_type": "code",
   "execution_count": null,
   "metadata": {},
   "outputs": [],
   "source": [
    "import requests\n",
    "url = \"https://api.github.com/orgs/dlt-hub/repos\"\n",
    "result = requests.get(url).json()\n",
    "print(result)\n"
   ]
  },
  {
   "cell_type": "code",
   "execution_count": null,
   "metadata": {},
   "outputs": [],
   "source": [
    "BASE_API_URL = \"https://us-central1-dlthub-analytics.cloudfunctions.net/data_engineering_zoomcamp_api\"\n",
    "\n",
    "page_number = 1\n",
    "while True:\n",
    "    params = {'page': page_number}\n",
    "    response = requests.get(BASE_API_URL, params=params)\n",
    "    page_data = response.json()\n",
    "\n",
    "    if not page_data:\n",
    "        break\n",
    "\n",
    "    print(page_data)\n",
    "    page_number += 1"
   ]
  },
  {
   "cell_type": "code",
   "execution_count": null,
   "metadata": {},
   "outputs": [],
   "source": [
    "import requests\n",
    "\n",
    "BASE_API_URL = \"https://us-central1-dlthub-analytics.cloudfunctions.net/data_engineering_zoomcamp_api\"\n",
    "\n",
    "def paginated_getter():\n",
    "    page_number = 1\n",
    "    while True:\n",
    "        params = {\"page\": page_number}\n",
    "        try: \n",
    "            response = requests.get(BASE_API_URL, params=params)\n",
    "            response.raise_for_status()\n",
    "\n",
    "            page_json = response.json()\n",
    "            print(f\"Got page {page_number} with {len(page_json)} records\")\n",
    "\n",
    "            if page_json:\n",
    "                yield page_json\n",
    "                page_number += 1\n",
    "\n",
    "            else: \n",
    "                break\n",
    "\n",
    "        except Exception as e:\n",
    "            print(e)\n",
    "            break\n",
    "\n",
    "for page_data in paginated_getter():    \n",
    "    print(page_data)"
   ]
  }
 ],
 "metadata": {
  "kernelspec": {
   "display_name": "de_bootcamp",
   "language": "python",
   "name": "python3"
  },
  "language_info": {
   "codemirror_mode": {
    "name": "ipython",
    "version": 3
   },
   "file_extension": ".py",
   "mimetype": "text/x-python",
   "name": "python",
   "nbconvert_exporter": "python",
   "pygments_lexer": "ipython3",
   "version": "3.12.9"
  }
 },
 "nbformat": 4,
 "nbformat_minor": 2
}
