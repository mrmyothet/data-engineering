{
  "cells": [
    {
      "cell_type": "markdown",
      "metadata": {
        "id": "EFPjhhB5VXd9"
      },
      "source": [
        "# **Workshop \"Data Ingestion with dlt\": Homework**\n"
      ]
    },
    {
      "cell_type": "markdown",
      "metadata": {
        "id": "a0V54cILVjfy"
      },
      "source": [
        "---\n",
        "\n",
        "## **Dataset & API**\n",
        "\n",
        "We’ll use **NYC Taxi data** via the same custom API from the workshop:\n",
        "\n",
        "🔹 **Base API URL:**  \n",
        "```\n",
        "https://us-central1-dlthub-analytics.cloudfunctions.net/data_engineering_zoomcamp_api\n",
        "```\n",
        "🔹 **Data format:** Paginated JSON (1,000 records per page).  \n",
        "🔹 **API Pagination:** Stop when an empty page is returned.  "
      ]
    },
    {
      "cell_type": "markdown",
      "metadata": {
        "id": "pNq2oqruVtiQ"
      },
      "source": [
        "## **Question 1: dlt Version**\n",
        "\n",
        "1. **Install dlt**:"
      ]
    },
    {
      "cell_type": "code",
      "execution_count": null,
      "metadata": {
        "id": "9yTfzUkZVwYi"
      },
      "outputs": [],
      "source": [
        " !pip install dlt[duckdb]"
      ]
    },
    {
      "cell_type": "markdown",
      "metadata": {
        "id": "Xv9gkwKIV3wM"
      },
      "source": [
        "> Or choose a different bracket—`bigquery`, `redshift`, etc.—if you prefer another primary destination. For this assignment, we’ll still do a quick test with DuckDB.\n",
        "\n",
        "2. **Check** the version:\n"
      ]
    },
    {
      "cell_type": "code",
      "execution_count": null,
      "metadata": {
        "id": "scFCGjeMWCkI"
      },
      "outputs": [],
      "source": [
        "!dlt --version"
      ]
    },
    {
      "cell_type": "markdown",
      "metadata": {
        "id": "Z-YrUxR8WFNw"
      },
      "source": [
        "or:"
      ]
    },
    {
      "cell_type": "code",
      "execution_count": 19,
      "metadata": {
        "id": "SSm1xDzPV5dO"
      },
      "outputs": [
        {
          "name": "stdout",
          "output_type": "stream",
          "text": [
            "dlt version: 1.6.1\n"
          ]
        }
      ],
      "source": [
        "import dlt\n",
        "print(\"dlt version:\", dlt.__version__)"
      ]
    },
    {
      "cell_type": "markdown",
      "metadata": {
        "id": "f0Z3F5s4WaXO"
      },
      "source": [
        "**Answer**:  \n",
        "- Provide the **version** you see in the output."
      ]
    },
    {
      "cell_type": "markdown",
      "metadata": {
        "id": "M02IXn-GWdBO"
      },
      "source": [
        "## **Question 2: Define & Run the Pipeline (NYC Taxi API)**\n",
        "\n",
        "Use dlt to extract all pages of data from the API.\n",
        "\n",
        "Steps:\n",
        "\n",
        "1️⃣ Use the `@dlt.resource` decorator to define the API source.\n",
        "\n",
        "2️⃣ Implement automatic pagination using dlt's built-in REST client.\n",
        "\n",
        "3️⃣ Load the extracted data into DuckDB for querying.\n",
        "\n"
      ]
    },
    {
      "cell_type": "code",
      "execution_count": 20,
      "metadata": {
        "id": "8ChhfBNUWshT"
      },
      "outputs": [],
      "source": [
        "import dlt\n",
        "from dlt.sources.helpers.rest_client import RESTClient\n",
        "from dlt.sources.helpers.rest_client.paginators import PageNumberPaginator\n",
        "\n",
        "\n",
        "@dlt.resource(name=\"rides\", write_disposition=\"replace\")\n",
        "def ny_taxi():\n",
        "    client = RESTClient(\n",
        "        base_url=\"https://us-central1-dlthub-analytics.cloudfunctions.net\",\n",
        "        paginator=PageNumberPaginator(\n",
        "            base_page=1,\n",
        "            total_path=None\n",
        "        )\n",
        "    )\n",
        "\n",
        "    for page in client.paginate(\"data_engineering_zoomcamp_api\"):\n",
        "        yield page\n",
        "\n",
        "\n",
        "pipeline = dlt.pipeline(\n",
        "    pipeline_name=\"ny_taxi_pipeline\",\n",
        "    destination=\"duckdb\",\n",
        "    dataset_name=\"ny_taxi_data\"\n",
        ")"
      ]
    },
    {
      "cell_type": "markdown",
      "metadata": {
        "id": "Y64a4o7qXGzH"
      },
      "source": [
        "Load the data into DuckDB to test:\n",
        "\n",
        "\n",
        "\n",
        "\n"
      ]
    },
    {
      "cell_type": "code",
      "execution_count": 21,
      "metadata": {
        "id": "emXcAQN2XIYk"
      },
      "outputs": [
        {
          "name": "stdout",
          "output_type": "stream",
          "text": [
            "Pipeline ny_taxi_pipeline load step completed in 3.51 seconds\n",
            "1 load package(s) were loaded to destination duckdb and into dataset ny_taxi_data\n",
            "The duckdb destination used duckdb:////home/myothet/repos/data-engineering/dlt/ny_taxi_pipeline.duckdb location to store data\n",
            "Load package 1739709255.9612274 is LOADED and contains no failed jobs\n"
          ]
        }
      ],
      "source": [
        "load_info = pipeline.run(ny_taxi)\n",
        "print(load_info)"
      ]
    },
    {
      "cell_type": "markdown",
      "metadata": {
        "id": "VfFtRuJLeTJZ"
      },
      "source": [
        "Start a connection to your database using native `duckdb` connection and look what tables were generated:"
      ]
    },
    {
      "cell_type": "code",
      "execution_count": 22,
      "metadata": {
        "id": "bmOjtD-Xeq3K"
      },
      "outputs": [
        {
          "data": {
            "text/html": [
              "<div>\n",
              "<style scoped>\n",
              "    .dataframe tbody tr th:only-of-type {\n",
              "        vertical-align: middle;\n",
              "    }\n",
              "\n",
              "    .dataframe tbody tr th {\n",
              "        vertical-align: top;\n",
              "    }\n",
              "\n",
              "    .dataframe thead th {\n",
              "        text-align: right;\n",
              "    }\n",
              "</style>\n",
              "<table border=\"1\" class=\"dataframe\">\n",
              "  <thead>\n",
              "    <tr style=\"text-align: right;\">\n",
              "      <th></th>\n",
              "      <th>database</th>\n",
              "      <th>schema</th>\n",
              "      <th>name</th>\n",
              "      <th>column_names</th>\n",
              "      <th>column_types</th>\n",
              "      <th>temporary</th>\n",
              "    </tr>\n",
              "  </thead>\n",
              "  <tbody>\n",
              "    <tr>\n",
              "      <th>0</th>\n",
              "      <td>ny_taxi_pipeline</td>\n",
              "      <td>ny_taxi_data</td>\n",
              "      <td>_dlt_loads</td>\n",
              "      <td>[load_id, schema_name, status, inserted_at, sc...</td>\n",
              "      <td>[VARCHAR, VARCHAR, BIGINT, TIMESTAMP WITH TIME...</td>\n",
              "      <td>False</td>\n",
              "    </tr>\n",
              "    <tr>\n",
              "      <th>1</th>\n",
              "      <td>ny_taxi_pipeline</td>\n",
              "      <td>ny_taxi_data</td>\n",
              "      <td>_dlt_pipeline_state</td>\n",
              "      <td>[version, engine_version, pipeline_name, state...</td>\n",
              "      <td>[BIGINT, BIGINT, VARCHAR, VARCHAR, TIMESTAMP W...</td>\n",
              "      <td>False</td>\n",
              "    </tr>\n",
              "    <tr>\n",
              "      <th>2</th>\n",
              "      <td>ny_taxi_pipeline</td>\n",
              "      <td>ny_taxi_data</td>\n",
              "      <td>_dlt_version</td>\n",
              "      <td>[version, engine_version, inserted_at, schema_...</td>\n",
              "      <td>[BIGINT, BIGINT, TIMESTAMP WITH TIME ZONE, VAR...</td>\n",
              "      <td>False</td>\n",
              "    </tr>\n",
              "    <tr>\n",
              "      <th>3</th>\n",
              "      <td>ny_taxi_pipeline</td>\n",
              "      <td>ny_taxi_data</td>\n",
              "      <td>ny_taxi</td>\n",
              "      <td>[end_lat, end_lon, fare_amt, passenger_count, ...</td>\n",
              "      <td>[DOUBLE, DOUBLE, DOUBLE, BIGINT, VARCHAR, DOUB...</td>\n",
              "      <td>False</td>\n",
              "    </tr>\n",
              "    <tr>\n",
              "      <th>4</th>\n",
              "      <td>ny_taxi_pipeline</td>\n",
              "      <td>ny_taxi_data</td>\n",
              "      <td>rides</td>\n",
              "      <td>[end_lat, end_lon, fare_amt, passenger_count, ...</td>\n",
              "      <td>[DOUBLE, DOUBLE, DOUBLE, BIGINT, VARCHAR, DOUB...</td>\n",
              "      <td>False</td>\n",
              "    </tr>\n",
              "  </tbody>\n",
              "</table>\n",
              "</div>"
            ],
            "text/plain": [
              "           database        schema                 name  \\\n",
              "0  ny_taxi_pipeline  ny_taxi_data           _dlt_loads   \n",
              "1  ny_taxi_pipeline  ny_taxi_data  _dlt_pipeline_state   \n",
              "2  ny_taxi_pipeline  ny_taxi_data         _dlt_version   \n",
              "3  ny_taxi_pipeline  ny_taxi_data              ny_taxi   \n",
              "4  ny_taxi_pipeline  ny_taxi_data                rides   \n",
              "\n",
              "                                        column_names  \\\n",
              "0  [load_id, schema_name, status, inserted_at, sc...   \n",
              "1  [version, engine_version, pipeline_name, state...   \n",
              "2  [version, engine_version, inserted_at, schema_...   \n",
              "3  [end_lat, end_lon, fare_amt, passenger_count, ...   \n",
              "4  [end_lat, end_lon, fare_amt, passenger_count, ...   \n",
              "\n",
              "                                        column_types  temporary  \n",
              "0  [VARCHAR, VARCHAR, BIGINT, TIMESTAMP WITH TIME...      False  \n",
              "1  [BIGINT, BIGINT, VARCHAR, VARCHAR, TIMESTAMP W...      False  \n",
              "2  [BIGINT, BIGINT, TIMESTAMP WITH TIME ZONE, VAR...      False  \n",
              "3  [DOUBLE, DOUBLE, DOUBLE, BIGINT, VARCHAR, DOUB...      False  \n",
              "4  [DOUBLE, DOUBLE, DOUBLE, BIGINT, VARCHAR, DOUB...      False  "
            ]
          },
          "execution_count": 22,
          "metadata": {},
          "output_type": "execute_result"
        }
      ],
      "source": [
        "import duckdb\n",
        "# from google.colab import data_table\n",
        "# data_table.enable_dataframe_formatter()\n",
        "\n",
        "# A database '<pipeline_name>.duckdb' was created in working directory so just connect to it\n",
        "\n",
        "# Connect to the DuckDB database\n",
        "conn = duckdb.connect(f\"{pipeline.pipeline_name}.duckdb\")\n",
        "\n",
        "# Set search path to the dataset\n",
        "conn.sql(f\"SET search_path = '{pipeline.dataset_name}'\")\n",
        "\n",
        "# Describe the dataset\n",
        "conn.sql(\"DESCRIBE\").df()"
      ]
    },
    {
      "cell_type": "markdown",
      "metadata": {
        "id": "lmfI_zjoeIrf"
      },
      "source": [
        "**Answer:**\n",
        "* How many tables were created?"
      ]
    },
    {
      "cell_type": "markdown",
      "metadata": {
        "id": "LLuS9O63f-fv"
      },
      "source": [
        "## **Question 3: Explore the loaded data**"
      ]
    },
    {
      "cell_type": "markdown",
      "metadata": {
        "id": "d_cWQaQjXLn8"
      },
      "source": [
        "Inspect the table `ride`:\n"
      ]
    },
    {
      "cell_type": "code",
      "execution_count": 23,
      "metadata": {
        "id": "lvpYmnhkXKLZ"
      },
      "outputs": [
        {
          "data": {
            "text/html": [
              "<div>\n",
              "<style scoped>\n",
              "    .dataframe tbody tr th:only-of-type {\n",
              "        vertical-align: middle;\n",
              "    }\n",
              "\n",
              "    .dataframe tbody tr th {\n",
              "        vertical-align: top;\n",
              "    }\n",
              "\n",
              "    .dataframe thead th {\n",
              "        text-align: right;\n",
              "    }\n",
              "</style>\n",
              "<table border=\"1\" class=\"dataframe\">\n",
              "  <thead>\n",
              "    <tr style=\"text-align: right;\">\n",
              "      <th></th>\n",
              "      <th>end_lat</th>\n",
              "      <th>end_lon</th>\n",
              "      <th>fare_amt</th>\n",
              "      <th>passenger_count</th>\n",
              "      <th>payment_type</th>\n",
              "      <th>start_lat</th>\n",
              "      <th>start_lon</th>\n",
              "      <th>tip_amt</th>\n",
              "      <th>tolls_amt</th>\n",
              "      <th>total_amt</th>\n",
              "      <th>trip_distance</th>\n",
              "      <th>trip_dropoff_date_time</th>\n",
              "      <th>trip_pickup_date_time</th>\n",
              "      <th>surcharge</th>\n",
              "      <th>vendor_name</th>\n",
              "      <th>_dlt_load_id</th>\n",
              "      <th>_dlt_id</th>\n",
              "      <th>store_and_forward</th>\n",
              "    </tr>\n",
              "  </thead>\n",
              "  <tbody>\n",
              "    <tr>\n",
              "      <th>0</th>\n",
              "      <td>40.742963</td>\n",
              "      <td>-73.980072</td>\n",
              "      <td>45.0</td>\n",
              "      <td>1</td>\n",
              "      <td>Credit</td>\n",
              "      <td>40.641525</td>\n",
              "      <td>-73.787442</td>\n",
              "      <td>9.0</td>\n",
              "      <td>4.15</td>\n",
              "      <td>58.15</td>\n",
              "      <td>17.52</td>\n",
              "      <td>2009-06-14 23:48:00+00:00</td>\n",
              "      <td>2009-06-14 23:23:00+00:00</td>\n",
              "      <td>0.0</td>\n",
              "      <td>VTS</td>\n",
              "      <td>1739709255.9612274</td>\n",
              "      <td>bcvox3rxKBGj5g</td>\n",
              "      <td>NaN</td>\n",
              "    </tr>\n",
              "    <tr>\n",
              "      <th>1</th>\n",
              "      <td>40.740187</td>\n",
              "      <td>-74.005698</td>\n",
              "      <td>6.5</td>\n",
              "      <td>1</td>\n",
              "      <td>Credit</td>\n",
              "      <td>40.722065</td>\n",
              "      <td>-74.009767</td>\n",
              "      <td>1.0</td>\n",
              "      <td>0.00</td>\n",
              "      <td>8.50</td>\n",
              "      <td>1.56</td>\n",
              "      <td>2009-06-18 17:43:00+00:00</td>\n",
              "      <td>2009-06-18 17:35:00+00:00</td>\n",
              "      <td>1.0</td>\n",
              "      <td>VTS</td>\n",
              "      <td>1739709255.9612274</td>\n",
              "      <td>ufeB0Xh/ck74Ng</td>\n",
              "      <td>NaN</td>\n",
              "    </tr>\n",
              "    <tr>\n",
              "      <th>2</th>\n",
              "      <td>40.718043</td>\n",
              "      <td>-74.004745</td>\n",
              "      <td>12.5</td>\n",
              "      <td>5</td>\n",
              "      <td>Credit</td>\n",
              "      <td>40.761945</td>\n",
              "      <td>-73.983038</td>\n",
              "      <td>2.0</td>\n",
              "      <td>0.00</td>\n",
              "      <td>15.50</td>\n",
              "      <td>3.37</td>\n",
              "      <td>2009-06-10 18:27:00+00:00</td>\n",
              "      <td>2009-06-10 18:08:00+00:00</td>\n",
              "      <td>1.0</td>\n",
              "      <td>VTS</td>\n",
              "      <td>1739709255.9612274</td>\n",
              "      <td>tLxxrUx94kisKw</td>\n",
              "      <td>NaN</td>\n",
              "    </tr>\n",
              "    <tr>\n",
              "      <th>3</th>\n",
              "      <td>40.739637</td>\n",
              "      <td>-73.985233</td>\n",
              "      <td>4.9</td>\n",
              "      <td>1</td>\n",
              "      <td>CASH</td>\n",
              "      <td>40.749802</td>\n",
              "      <td>-73.992247</td>\n",
              "      <td>0.0</td>\n",
              "      <td>0.00</td>\n",
              "      <td>5.40</td>\n",
              "      <td>1.11</td>\n",
              "      <td>2009-06-14 23:58:00+00:00</td>\n",
              "      <td>2009-06-14 23:54:00+00:00</td>\n",
              "      <td>0.5</td>\n",
              "      <td>VTS</td>\n",
              "      <td>1739709255.9612274</td>\n",
              "      <td>eAWix2/8D/8Isg</td>\n",
              "      <td>NaN</td>\n",
              "    </tr>\n",
              "    <tr>\n",
              "      <th>4</th>\n",
              "      <td>40.730032</td>\n",
              "      <td>-73.852693</td>\n",
              "      <td>25.7</td>\n",
              "      <td>1</td>\n",
              "      <td>CASH</td>\n",
              "      <td>40.776825</td>\n",
              "      <td>-73.949233</td>\n",
              "      <td>0.0</td>\n",
              "      <td>4.15</td>\n",
              "      <td>29.85</td>\n",
              "      <td>11.09</td>\n",
              "      <td>2009-06-13 13:23:00+00:00</td>\n",
              "      <td>2009-06-13 13:01:00+00:00</td>\n",
              "      <td>0.0</td>\n",
              "      <td>VTS</td>\n",
              "      <td>1739709255.9612274</td>\n",
              "      <td>h+1LG8l0qDI5Dw</td>\n",
              "      <td>NaN</td>\n",
              "    </tr>\n",
              "    <tr>\n",
              "      <th>...</th>\n",
              "      <td>...</td>\n",
              "      <td>...</td>\n",
              "      <td>...</td>\n",
              "      <td>...</td>\n",
              "      <td>...</td>\n",
              "      <td>...</td>\n",
              "      <td>...</td>\n",
              "      <td>...</td>\n",
              "      <td>...</td>\n",
              "      <td>...</td>\n",
              "      <td>...</td>\n",
              "      <td>...</td>\n",
              "      <td>...</td>\n",
              "      <td>...</td>\n",
              "      <td>...</td>\n",
              "      <td>...</td>\n",
              "      <td>...</td>\n",
              "      <td>...</td>\n",
              "    </tr>\n",
              "    <tr>\n",
              "      <th>9995</th>\n",
              "      <td>40.783522</td>\n",
              "      <td>-73.970690</td>\n",
              "      <td>5.7</td>\n",
              "      <td>1</td>\n",
              "      <td>CASH</td>\n",
              "      <td>40.778560</td>\n",
              "      <td>-73.953660</td>\n",
              "      <td>0.0</td>\n",
              "      <td>0.00</td>\n",
              "      <td>5.70</td>\n",
              "      <td>1.16</td>\n",
              "      <td>2009-06-19 11:28:00+00:00</td>\n",
              "      <td>2009-06-19 11:22:00+00:00</td>\n",
              "      <td>0.0</td>\n",
              "      <td>VTS</td>\n",
              "      <td>1739709255.9612274</td>\n",
              "      <td>zFurm+OAeW2B0A</td>\n",
              "      <td>NaN</td>\n",
              "    </tr>\n",
              "    <tr>\n",
              "      <th>9996</th>\n",
              "      <td>40.777200</td>\n",
              "      <td>-73.964197</td>\n",
              "      <td>4.1</td>\n",
              "      <td>1</td>\n",
              "      <td>CASH</td>\n",
              "      <td>40.779800</td>\n",
              "      <td>-73.974297</td>\n",
              "      <td>0.0</td>\n",
              "      <td>0.00</td>\n",
              "      <td>4.10</td>\n",
              "      <td>0.89</td>\n",
              "      <td>2009-06-17 07:43:00+00:00</td>\n",
              "      <td>2009-06-17 07:41:00+00:00</td>\n",
              "      <td>0.0</td>\n",
              "      <td>VTS</td>\n",
              "      <td>1739709255.9612274</td>\n",
              "      <td>Ig3lt0Irnkaidw</td>\n",
              "      <td>NaN</td>\n",
              "    </tr>\n",
              "    <tr>\n",
              "      <th>9997</th>\n",
              "      <td>40.780172</td>\n",
              "      <td>-73.957617</td>\n",
              "      <td>6.1</td>\n",
              "      <td>1</td>\n",
              "      <td>CASH</td>\n",
              "      <td>40.788388</td>\n",
              "      <td>-73.976758</td>\n",
              "      <td>0.0</td>\n",
              "      <td>0.00</td>\n",
              "      <td>6.10</td>\n",
              "      <td>1.30</td>\n",
              "      <td>2009-06-19 11:46:00+00:00</td>\n",
              "      <td>2009-06-19 11:39:00+00:00</td>\n",
              "      <td>0.0</td>\n",
              "      <td>VTS</td>\n",
              "      <td>1739709255.9612274</td>\n",
              "      <td>tRemFnQmp+2rvg</td>\n",
              "      <td>NaN</td>\n",
              "    </tr>\n",
              "    <tr>\n",
              "      <th>9998</th>\n",
              "      <td>40.777342</td>\n",
              "      <td>-73.957242</td>\n",
              "      <td>5.7</td>\n",
              "      <td>1</td>\n",
              "      <td>CASH</td>\n",
              "      <td>40.773828</td>\n",
              "      <td>-73.956690</td>\n",
              "      <td>0.0</td>\n",
              "      <td>0.00</td>\n",
              "      <td>6.20</td>\n",
              "      <td>0.97</td>\n",
              "      <td>2009-06-17 04:19:00+00:00</td>\n",
              "      <td>2009-06-17 04:13:00+00:00</td>\n",
              "      <td>0.5</td>\n",
              "      <td>VTS</td>\n",
              "      <td>1739709255.9612274</td>\n",
              "      <td>bXClUaO83tYLjA</td>\n",
              "      <td>NaN</td>\n",
              "    </tr>\n",
              "    <tr>\n",
              "      <th>9999</th>\n",
              "      <td>40.757122</td>\n",
              "      <td>-73.986293</td>\n",
              "      <td>6.5</td>\n",
              "      <td>1</td>\n",
              "      <td>Credit</td>\n",
              "      <td>40.756313</td>\n",
              "      <td>-73.972948</td>\n",
              "      <td>2.0</td>\n",
              "      <td>0.00</td>\n",
              "      <td>8.50</td>\n",
              "      <td>0.92</td>\n",
              "      <td>2009-06-17 08:34:00+00:00</td>\n",
              "      <td>2009-06-17 08:24:00+00:00</td>\n",
              "      <td>0.0</td>\n",
              "      <td>VTS</td>\n",
              "      <td>1739709255.9612274</td>\n",
              "      <td>VDL4HNKlcXoc5g</td>\n",
              "      <td>NaN</td>\n",
              "    </tr>\n",
              "  </tbody>\n",
              "</table>\n",
              "<p>10000 rows × 18 columns</p>\n",
              "</div>"
            ],
            "text/plain": [
              "        end_lat    end_lon  fare_amt  passenger_count payment_type  start_lat  \\\n",
              "0     40.742963 -73.980072      45.0                1       Credit  40.641525   \n",
              "1     40.740187 -74.005698       6.5                1       Credit  40.722065   \n",
              "2     40.718043 -74.004745      12.5                5       Credit  40.761945   \n",
              "3     40.739637 -73.985233       4.9                1         CASH  40.749802   \n",
              "4     40.730032 -73.852693      25.7                1         CASH  40.776825   \n",
              "...         ...        ...       ...              ...          ...        ...   \n",
              "9995  40.783522 -73.970690       5.7                1         CASH  40.778560   \n",
              "9996  40.777200 -73.964197       4.1                1         CASH  40.779800   \n",
              "9997  40.780172 -73.957617       6.1                1         CASH  40.788388   \n",
              "9998  40.777342 -73.957242       5.7                1         CASH  40.773828   \n",
              "9999  40.757122 -73.986293       6.5                1       Credit  40.756313   \n",
              "\n",
              "      start_lon  tip_amt  tolls_amt  total_amt  trip_distance  \\\n",
              "0    -73.787442      9.0       4.15      58.15          17.52   \n",
              "1    -74.009767      1.0       0.00       8.50           1.56   \n",
              "2    -73.983038      2.0       0.00      15.50           3.37   \n",
              "3    -73.992247      0.0       0.00       5.40           1.11   \n",
              "4    -73.949233      0.0       4.15      29.85          11.09   \n",
              "...         ...      ...        ...        ...            ...   \n",
              "9995 -73.953660      0.0       0.00       5.70           1.16   \n",
              "9996 -73.974297      0.0       0.00       4.10           0.89   \n",
              "9997 -73.976758      0.0       0.00       6.10           1.30   \n",
              "9998 -73.956690      0.0       0.00       6.20           0.97   \n",
              "9999 -73.972948      2.0       0.00       8.50           0.92   \n",
              "\n",
              "        trip_dropoff_date_time     trip_pickup_date_time  surcharge  \\\n",
              "0    2009-06-14 23:48:00+00:00 2009-06-14 23:23:00+00:00        0.0   \n",
              "1    2009-06-18 17:43:00+00:00 2009-06-18 17:35:00+00:00        1.0   \n",
              "2    2009-06-10 18:27:00+00:00 2009-06-10 18:08:00+00:00        1.0   \n",
              "3    2009-06-14 23:58:00+00:00 2009-06-14 23:54:00+00:00        0.5   \n",
              "4    2009-06-13 13:23:00+00:00 2009-06-13 13:01:00+00:00        0.0   \n",
              "...                        ...                       ...        ...   \n",
              "9995 2009-06-19 11:28:00+00:00 2009-06-19 11:22:00+00:00        0.0   \n",
              "9996 2009-06-17 07:43:00+00:00 2009-06-17 07:41:00+00:00        0.0   \n",
              "9997 2009-06-19 11:46:00+00:00 2009-06-19 11:39:00+00:00        0.0   \n",
              "9998 2009-06-17 04:19:00+00:00 2009-06-17 04:13:00+00:00        0.5   \n",
              "9999 2009-06-17 08:34:00+00:00 2009-06-17 08:24:00+00:00        0.0   \n",
              "\n",
              "     vendor_name        _dlt_load_id         _dlt_id  store_and_forward  \n",
              "0            VTS  1739709255.9612274  bcvox3rxKBGj5g                NaN  \n",
              "1            VTS  1739709255.9612274  ufeB0Xh/ck74Ng                NaN  \n",
              "2            VTS  1739709255.9612274  tLxxrUx94kisKw                NaN  \n",
              "3            VTS  1739709255.9612274  eAWix2/8D/8Isg                NaN  \n",
              "4            VTS  1739709255.9612274  h+1LG8l0qDI5Dw                NaN  \n",
              "...          ...                 ...             ...                ...  \n",
              "9995         VTS  1739709255.9612274  zFurm+OAeW2B0A                NaN  \n",
              "9996         VTS  1739709255.9612274  Ig3lt0Irnkaidw                NaN  \n",
              "9997         VTS  1739709255.9612274  tRemFnQmp+2rvg                NaN  \n",
              "9998         VTS  1739709255.9612274  bXClUaO83tYLjA                NaN  \n",
              "9999         VTS  1739709255.9612274  VDL4HNKlcXoc5g                NaN  \n",
              "\n",
              "[10000 rows x 18 columns]"
            ]
          },
          "execution_count": 23,
          "metadata": {},
          "output_type": "execute_result"
        }
      ],
      "source": [
        "df = pipeline.dataset(dataset_type=\"default\").rides.df()\n",
        "df"
      ]
    },
    {
      "cell_type": "markdown",
      "metadata": {
        "id": "OZEvd9TcgEst"
      },
      "source": [
        "**Answer:**\n",
        "* What is the total number of records extracted?"
      ]
    },
    {
      "cell_type": "markdown",
      "metadata": {
        "id": "joyAEvNae6Ds"
      },
      "source": [
        "## **Question 4: Trip Duration Analysis**\n",
        "\n",
        "Run the SQL query below to:\n",
        "\n",
        "* Calculate the average trip duration in minutes."
      ]
    },
    {
      "cell_type": "code",
      "execution_count": 24,
      "metadata": {
        "id": "BtsSxtFfXQs3"
      },
      "outputs": [
        {
          "name": "stdout",
          "output_type": "stream",
          "text": [
            "[(12.3049,)]\n"
          ]
        }
      ],
      "source": [
        "with pipeline.sql_client() as client:\n",
        "    res = client.execute_sql(\n",
        "            \"\"\"\n",
        "            SELECT\n",
        "            AVG(date_diff('minute', trip_pickup_date_time, trip_dropoff_date_time))\n",
        "            FROM rides;\n",
        "            \"\"\"\n",
        "        )\n",
        "    # Prints column values of the first row\n",
        "    print(res)"
      ]
    },
    {
      "cell_type": "markdown",
      "metadata": {
        "id": "YTIydWT0dTf9"
      },
      "source": [
        "**Answer:**\n",
        "* What is the average trip duration?"
      ]
    },
    {
      "cell_type": "markdown",
      "metadata": {
        "id": "kEFQZKB0gkCI"
      },
      "source": [
        "## **Submitting the solutions**\n",
        "\n",
        "* Form for submitting: TBA\n",
        "\n",
        "\n"
      ]
    },
    {
      "cell_type": "markdown",
      "metadata": {
        "id": "cPrgwE3ziNan"
      },
      "source": [
        "## **Solution**\n",
        "\n",
        "We will publish the solution here after deadline."
      ]
    }
  ],
  "metadata": {
    "colab": {
      "provenance": [],
      "toc_visible": true
    },
    "kernelspec": {
      "display_name": "de_bootcamp",
      "language": "python",
      "name": "python3"
    },
    "language_info": {
      "codemirror_mode": {
        "name": "ipython",
        "version": 3
      },
      "file_extension": ".py",
      "mimetype": "text/x-python",
      "name": "python",
      "nbconvert_exporter": "python",
      "pygments_lexer": "ipython3",
      "version": "3.12.9"
    }
  },
  "nbformat": 4,
  "nbformat_minor": 0
}
