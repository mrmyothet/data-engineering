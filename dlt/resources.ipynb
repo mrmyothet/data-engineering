{
 "cells": [
  {
   "cell_type": "code",
   "execution_count": null,
   "metadata": {},
   "outputs": [],
   "source": [
    "import dlt\n",
    "import pandas as pd\n",
    "from sqlalchemy import create_engine"
   ]
  },
  {
   "cell_type": "code",
   "execution_count": null,
   "metadata": {},
   "outputs": [],
   "source": [
    "data = [\n",
    "    {\"id\": \"1\", \"name\": \"bulbasaur\", \"size\": {\"weight\": 6.9, \"height\": 0.7}},\n",
    "    {\"id\": \"4\", \"name\": \"charmander\", \"size\": {\"weight\": 8.5, \"height\": 0.6}},\n",
    "    {\"id\": \"25\", \"name\": \"pikachu\", \"size\": {\"weight\": 6, \"height\": 0.4}},\n",
    "]\n",
    "\n",
    "pipeline = dlt.pipeline(\n",
    "    pipeline_name=\"quick_start\", \n",
    "    destination=\"duckdb\",\n",
    "    dataset_name=\"mydata\", \n",
    "    dev_mode=True\n",
    ")\n",
    "\n",
    "load_info = pipeline.run(data, table_name=\"pokemon\")\n",
    "print(load_info)"
   ]
  },
  {
   "cell_type": "markdown",
   "metadata": {},
   "source": [
    "### List of dicts"
   ]
  },
  {
   "cell_type": "code",
   "execution_count": null,
   "metadata": {},
   "outputs": [],
   "source": [
    "@dlt.resource(table_name=\"pokemon_new\")\n",
    "def my_dict_list():\n",
    "    yield data\n",
    "\n",
    "load_info = pipeline.run(my_dict_list)\n",
    "print(load_info)\n",
    "\n",
    "pipeline.dataset(dataset_type=\"default\").pokemon_new.df()"
   ]
  },
  {
   "cell_type": "markdown",
   "metadata": {},
   "source": [
    "### Dataframes"
   ]
  },
  {
   "cell_type": "code",
   "execution_count": null,
   "metadata": {},
   "outputs": [],
   "source": [
    "@dlt.resource(table_name=\"df_data\")\n",
    "def my_df():\n",
    "    sample_df = pd.read_csv(\"https://people.sc.fsu.edu/~jburkardt/data/csv/hw_200.csv\")\n",
    "    yield sample_df\n",
    "\n",
    "load_info = pipeline.run(my_df)\n",
    "print(load_info)\n",
    "\n",
    "pipeline.dataset(dataset_type=\"default\").df_data.df()"
   ]
  },
  {
   "cell_type": "markdown",
   "metadata": {},
   "source": [
    "### Database"
   ]
  },
  {
   "cell_type": "code",
   "execution_count": null,
   "metadata": {},
   "outputs": [],
   "source": [
    "@dlt.resource(table_name=\"genome_data\")\n",
    "def get_genome_data():\n",
    "    engine = create_engine(\"mysql+pymysql://rfamro@mysql-rfam-public.ebi.ac.uk:4497/Rfam\")\n",
    "    with engine.connect() as conn:\n",
    "        query = \"SELECT * FROM genome LIMIT 1000\"\n",
    "        rows = conn.execution_options(yield_per=100).exec_driver_sql(query)\n",
    "        yield from map(lambda row: dict(row._mapping), rows)\n",
    "\n",
    "load_info = pipeline.run(get_genome_data)\n",
    "print(load_info)\n",
    "\n",
    "pipeline.dataset(dataset_type=\"default\").genome_data.df()"
   ]
  },
  {
   "cell_type": "markdown",
   "metadata": {},
   "source": [
    "### REST API"
   ]
  },
  {
   "cell_type": "code",
   "execution_count": null,
   "metadata": {},
   "outputs": [],
   "source": [
    "from dlt.sources.helpers import requests\n",
    "\n",
    "@dlt.resource(table_name=\"pokemon_api\")\n",
    "def get_pokemon():\n",
    "    url = \"https://pokeapi.co/api/v2/pokemon\"\n",
    "    response = requests.get(url)\n",
    "    yield response.json()[\"results\"]\n",
    "\n",
    "load_info = pipeline.run(get_pokemon)\n",
    "print(load_info)\n",
    "\n",
    "pipeline.dataset(dataset_type=\"default\").pokemon_api.df()"
   ]
  },
  {
   "cell_type": "markdown",
   "metadata": {},
   "source": [
    "### Loading everything above in a single pipeline"
   ]
  },
  {
   "cell_type": "code",
   "execution_count": 15,
   "metadata": {},
   "outputs": [
    {
     "name": "stdout",
     "output_type": "stream",
     "text": [
      "Pipeline quick_start load step completed in 0.67 seconds\n",
      "1 load package(s) were loaded to destination duckdb and into dataset mydata_20250215112813\n",
      "The duckdb destination used duckdb:////home/myothet/myothet/data-engineering/dlt/quick_start.duckdb location to store data\n",
      "Load package 1739619788.7067232 is LOADED and contains no failed jobs\n"
     ]
    }
   ],
   "source": [
    "load_info = pipeline.run([my_df, get_genome_data, get_pokemon])\n",
    "print(load_info)"
   ]
  },
  {
   "cell_type": "code",
   "execution_count": 16,
   "metadata": {},
   "outputs": [
    {
     "name": "stdout",
     "output_type": "stream",
     "text": [
      "            table_name\n",
      "0              df_data\n",
      "1          genome_data\n",
      "2              pokemon\n",
      "3          pokemon_api\n",
      "4          pokemon_new\n",
      "5           _dlt_loads\n",
      "6  _dlt_pipeline_state\n",
      "7         _dlt_version\n"
     ]
    }
   ],
   "source": [
    "# List all table names from the database\n",
    "\n",
    "with pipeline.sql_client() as client:\n",
    "    with client.execute_query(\"SELECT table_name FROM information_schema.tables\") as table:\n",
    "        print(table.df())"
   ]
  },
  {
   "cell_type": "code",
   "execution_count": null,
   "metadata": {},
   "outputs": [],
   "source": []
  }
 ],
 "metadata": {
  "kernelspec": {
   "display_name": "de_bootcamp",
   "language": "python",
   "name": "python3"
  },
  "language_info": {
   "codemirror_mode": {
    "name": "ipython",
    "version": 3
   },
   "file_extension": ".py",
   "mimetype": "text/x-python",
   "name": "python",
   "nbconvert_exporter": "python",
   "pygments_lexer": "ipython3",
   "version": "3.12.0"
  }
 },
 "nbformat": 4,
 "nbformat_minor": 2
}
