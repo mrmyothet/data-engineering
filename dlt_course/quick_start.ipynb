{
 "cells": [
  {
   "cell_type": "code",
   "execution_count": 1,
   "metadata": {},
   "outputs": [
    {
     "data": {
      "text/plain": [
       "True"
      ]
     },
     "execution_count": 1,
     "metadata": {},
     "output_type": "execute_result"
    }
   ],
   "source": [
    "# pip install \"dlt[duckdb]\"\n",
    "# pip install \"dlt[gs]\"\n",
    "\n",
    "import dlt\n",
    "import os\n",
    "# pip install python-dotenv\n",
    "from dotenv import load_dotenv\n",
    "\n",
    "load_dotenv()"
   ]
  },
  {
   "cell_type": "code",
   "execution_count": 2,
   "metadata": {},
   "outputs": [],
   "source": [
    "# Sample data containing pokemon details\n",
    "data = [\n",
    "    {\"id\": \"1\", \"name\": \"bulbasaur\", \"size\": {\"weight\": 6.9, \"height\": 0.7}},\n",
    "    {\"id\": \"4\", \"name\": \"charmander\", \"size\": {\"weight\": 8.5, \"height\": 0.6}},\n",
    "    {\"id\": \"25\", \"name\": \"pikachu\", \"size\": {\"weight\": 6, \"height\": 0.4}},\n",
    "]\n",
    "\n",
    "pipeline = dlt.pipeline(\n",
    "    pipeline_name=\"quick_start\", destination=\"filesystem\", dataset_name=\"ny_taxi\"\n",
    ")"
   ]
  },
  {
   "cell_type": "code",
   "execution_count": 3,
   "metadata": {},
   "outputs": [
    {
     "name": "stdout",
     "output_type": "stream",
     "text": [
      "bucket_url: file:///home/myothet/repos/data-engineering/dlt_course/my_data\n"
     ]
    }
   ],
   "source": [
    "bucket_url = os.getenv(key=\"BUCKET_URL\")\n",
    "print(f\"bucket_url: {bucket_url}\")"
   ]
  },
  {
   "cell_type": "code",
   "execution_count": 4,
   "metadata": {},
   "outputs": [
    {
     "name": "stdout",
     "output_type": "stream",
     "text": [
      "Pipeline quick_start load step completed in 0.06 seconds\n",
      "1 load package(s) were loaded to destination filesystem and into dataset ny_taxi\n",
      "The filesystem destination used file:///home/myothet/repos/data-engineering/dlt_course/my_data location to store data\n",
      "Load package 1739448538.1918476 is LOADED and contains no failed jobs\n"
     ]
    }
   ],
   "source": [
    "load_info = pipeline.run(data, table_name=\"pokemon\")\n",
    "print(load_info)"
   ]
  }
 ],
 "metadata": {
  "kernelspec": {
   "display_name": "de_bootcamp",
   "language": "python",
   "name": "python3"
  },
  "language_info": {
   "codemirror_mode": {
    "name": "ipython",
    "version": 3
   },
   "file_extension": ".py",
   "mimetype": "text/x-python",
   "name": "python",
   "nbconvert_exporter": "python",
   "pygments_lexer": "ipython3",
   "version": "3.12.9"
  }
 },
 "nbformat": 4,
 "nbformat_minor": 2
}
