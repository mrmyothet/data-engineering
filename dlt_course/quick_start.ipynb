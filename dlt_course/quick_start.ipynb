{
 "cells": [
  {
   "cell_type": "code",
   "execution_count": null,
   "metadata": {},
   "outputs": [],
   "source": [
    "# pip install \"dlt[duckdb]\"\n",
    "# pip install \"dlt[gs]\"\n",
    "\n",
    "import dlt\n",
    "import os\n",
    "# pip install python-dotenv\n",
    "from dotenv import load_dotenv\n",
    "\n",
    "load_dotenv()"
   ]
  },
  {
   "cell_type": "code",
   "execution_count": null,
   "metadata": {},
   "outputs": [],
   "source": [
    "# Sample data containing pokemon details\n",
    "data = [\n",
    "    {\"id\": \"1\", \"name\": \"bulbasaur\", \"size\": {\"weight\": 6.9, \"height\": 0.7}},\n",
    "    {\"id\": \"4\", \"name\": \"charmander\", \"size\": {\"weight\": 8.5, \"height\": 0.6}},\n",
    "    {\"id\": \"25\", \"name\": \"pikachu\", \"size\": {\"weight\": 6, \"height\": 0.4}},\n",
    "]\n",
    "\n",
    "pipeline = dlt.pipeline(\n",
    "    pipeline_name=\"quick_start\", destination=\"filesystem\", dataset_name=\"ny_taxi\"\n",
    ")"
   ]
  },
  {
   "cell_type": "code",
   "execution_count": null,
   "metadata": {},
   "outputs": [],
   "source": [
    "project_id = os.getenv(\"CREDENTIALS__PROJECT_ID\")\n",
    "refresh_token = os.getenv(\"CREDENTIALS__REFRESH_TOKEN\")\n",
    "client_secret = os.getenv(\"CREDENTIALS__CLIENT_SECRET\")\n",
    "client_id = os.getenv(\"CREDENTIALS__CLIENT_ID\")\n",
    "bucket_url = os.getenv(key=\"BUCKET_URL\")\n",
    "\n",
    "print(f\"project_id: {project_id}\")\n",
    "print(f\"refresh_token: {refresh_token}\")\n",
    "print(f\"client_secret: {client_secret}\")\n",
    "print(f\"client_id: {client_id}\")\n",
    "print(f\"bucket_url: {bucket_url}\")"
   ]
  },
  {
   "cell_type": "code",
   "execution_count": null,
   "metadata": {},
   "outputs": [],
   "source": [
    "load_info = pipeline.run(data, table_name=\"pokemon\")\n",
    "print(load_info)"
   ]
  }
 ],
 "metadata": {
  "kernelspec": {
   "display_name": "de_bootcamp",
   "language": "python",
   "name": "python3"
  },
  "language_info": {
   "codemirror_mode": {
    "name": "ipython",
    "version": 3
   },
   "file_extension": ".py",
   "mimetype": "text/x-python",
   "name": "python",
   "nbconvert_exporter": "python",
   "pygments_lexer": "ipython3",
   "version": "3.12.8"
  }
 },
 "nbformat": 4,
 "nbformat_minor": 2
}
